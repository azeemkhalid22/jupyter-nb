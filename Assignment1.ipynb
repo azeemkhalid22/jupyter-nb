{
 "cells": [
  {
   "cell_type": "code",
   "execution_count": 1,
   "id": "21304bc7",
   "metadata": {},
   "outputs": [
    {
     "name": "stdout",
     "output_type": "stream",
     "text": [
      "Enter Hours: 45\n",
      "Enter Rate: 10\n",
      "Pay:  475.0\n"
     ]
    }
   ],
   "source": [
    "# Q2) Rewrite your pay computation with time-and-a- half for overtime and\n",
    "#create a function called compute pay which takes two parameters ( hours and rate).\n",
    "# Enter Hours: 45\n",
    "# Enter Rate: 10\n",
    "# Pay: 475.0\n",
    "\n",
    "def compute_pay(hours, rate):\n",
    "    if hours <= 40:\n",
    "        pay = hours * rate\n",
    "    else:\n",
    "        overtime_hours = hours - 40\n",
    "        pay = 40 * rate + overtime_hours * (rate * 1.5)\n",
    "    return pay\n",
    "\n",
    "# Example usage\n",
    "hours = float(input(\"Enter Hours: \"))\n",
    "rate = float(input(\"Enter Rate: \"))\n",
    "pay = compute_pay(hours, rate)\n",
    "print(\"Pay: \", pay)\n"
   ]
  },
  {
   "cell_type": "code",
   "execution_count": 2,
   "id": "eafecfaf",
   "metadata": {},
   "outputs": [
    {
     "name": "stdout",
     "output_type": "stream",
     "text": [
      "The largest value in the list is: 74\n"
     ]
    }
   ],
   "source": [
    "# Q3) Find the Largest value from a given list [9, 41, 12, 3, 74, 15]\n",
    "lst = [9, 41, 12, 3, 74, 15]\n",
    "largest = max(lst)\n",
    "print(\"The largest value in the list is:\", largest)"
   ]
  },
  {
   "cell_type": "code",
   "execution_count": 3,
   "id": "a5e250e9",
   "metadata": {},
   "outputs": [
    {
     "name": "stdout",
     "output_type": "stream",
     "text": [
      "The smallest value in the list is: 3\n"
     ]
    }
   ],
   "source": [
    "# Q4) Find the smallest value from a given list [9, 41, 12, 3, 74, 15]\n",
    "\n",
    "lst = [9, 41, 12, 3, 74, 15]\n",
    "smallest = min(lst)\n",
    "print(\"The smallest value in the list is:\", smallest)\n"
   ]
  },
  {
   "cell_type": "code",
   "execution_count": 4,
   "id": "9e40dff2",
   "metadata": {},
   "outputs": [
    {
     "name": "stdout",
     "output_type": "stream",
     "text": [
      "The average value of the list is: 25.666666666666668\n"
     ]
    }
   ],
   "source": [
    "# Q5) Find the average of a given list [9, 41, 12, 3, 74, 15]\n",
    "\n",
    "lst = [9, 41, 12, 3, 74, 15]\n",
    "average = sum(lst) / len(lst)\n",
    "print(\"The average value of the list is:\", average)\n"
   ]
  },
  {
   "cell_type": "code",
   "execution_count": 5,
   "id": "27ef455a",
   "metadata": {},
   "outputs": [
    {
     "name": "stdout",
     "output_type": "stream",
     "text": [
      "True\n"
     ]
    }
   ],
   "source": [
    "# Q6) Search if a given value 74 is present in a given list [9, 41, 12, 3, 74, 15]\n",
    "\n",
    "lst = [9, 41, 12, 3, 74, 15]\n",
    "print(74 in lst)\n"
   ]
  },
  {
   "cell_type": "code",
   "execution_count": 6,
   "id": "6e36b334",
   "metadata": {},
   "outputs": [
    {
     "name": "stdout",
     "output_type": "stream",
     "text": [
      "Enter the filename: mbox.txt\n",
      "The file mbox.txt has 132045 lines.\n"
     ]
    }
   ],
   "source": [
    "# Q7) Input a file mbox.txt during runtime and count the number of lines\n",
    "\n",
    "filename = input(\"Enter the filename: \")\n",
    "line_count = sum(1 for line in open(filename))\n",
    "\n",
    "print(f\"The file {filename} has {line_count} lines.\")\n",
    "\n"
   ]
  },
  {
   "cell_type": "code",
   "execution_count": 7,
   "id": "08f8d058",
   "metadata": {},
   "outputs": [
    {
     "name": "stdout",
     "output_type": "stream",
     "text": [
      "How many numbers do you want to enter? 10\n",
      "Enter number 1: 20\n",
      "Enter number 2: 30\n",
      "Enter number 3: 40\n",
      "Enter number 4: 50\n",
      "Enter number 5: 60\n",
      "Enter number 6: 70\n",
      "Enter number 7: 80\n",
      "Enter number 8: 90\n",
      "Enter number 9: 100\n",
      "Enter number 10: 110\n",
      "The average of the 10 numbers is: 65.0\n"
     ]
    }
   ],
   "source": [
    "# Q8)Take multiple inputs from user one by one and find their averag\n",
    "\n",
    "n = int(input(\"How many numbers do you want to enter? \"))\n",
    "total = sum(float(input(f\"Enter number {i+1}: \")) for i in range(n))\n",
    "average = total / n\n",
    "print(f\"The average of the {n} numbers is: {average}\")\n",
    "\n"
   ]
  },
  {
   "cell_type": "code",
   "execution_count": 8,
   "id": "3aae5928",
   "metadata": {},
   "outputs": [
    {
     "name": "stdout",
     "output_type": "stream",
     "text": [
      "Enter a sentence: The quick brown fox jumps over the lazy dog.\n",
      "The sentence 'The quick brown fox jumps over the lazy dog.' has 9 words.\n"
     ]
    }
   ],
   "source": [
    "# Q9) Enter a sentence and count of words in that sentence.\n",
    "\n",
    "sentence = input(\"Enter a sentence: \")\n",
    "words = sentence.split()\n",
    "num_words = len(words)\n",
    "print(f\"The sentence '{sentence}' has {num_words} words.\")\n"
   ]
  },
  {
   "cell_type": "code",
   "execution_count": 9,
   "id": "bbc6f459",
   "metadata": {},
   "outputs": [
    {
     "name": "stdout",
     "output_type": "stream",
     "text": [
      "Enter the filename: mbox.txt\n",
      "The most common word in 'mbox.txt' is '2007', which appears 20413 times.\n"
     ]
    }
   ],
   "source": [
    "# Q10) Find the most common word in a file\n",
    "\n",
    "from collections import Counter\n",
    "filename = input(\"Enter the filename: \")\n",
    "\n",
    "# Open the file and read its contents\n",
    "with open(filename) as f:\n",
    "    contents = f.read()\n",
    "\n",
    "# Split the contents into words and count their frequency\n",
    "word_counts = Counter(contents.split())\n",
    "\n",
    "# Find the most common word and its count\n",
    "#This method returns a list of tuples, with each tuple containing a word and its count.\n",
    "#Since we only want the most common word, we extract the first tuple using [0].\n",
    "most_common_word, count = word_counts.most_common(1)[0]\n",
    "\n",
    "# Print the result\n",
    "print(f\"The most common word in '{filename}' is '{most_common_word}', which appears {count} times.\")\n"
   ]
  },
  {
   "cell_type": "code",
   "execution_count": null,
   "id": "99a6ba54",
   "metadata": {},
   "outputs": [],
   "source": []
  }
 ],
 "metadata": {
  "kernelspec": {
   "display_name": "Python 3 (ipykernel)",
   "language": "python",
   "name": "python3"
  },
  "language_info": {
   "codemirror_mode": {
    "name": "ipython",
    "version": 3
   },
   "file_extension": ".py",
   "mimetype": "text/x-python",
   "name": "python",
   "nbconvert_exporter": "python",
   "pygments_lexer": "ipython3",
   "version": "3.8.10"
  }
 },
 "nbformat": 4,
 "nbformat_minor": 5
}
